{
 "cells": [
  {
   "cell_type": "code",
   "execution_count": 1,
   "metadata": {
    "collapsed": true
   },
   "outputs": [],
   "source": [
    "import pandas as pd\n",
    "import numpy as np\n",
    "import matplotlib.pyplot as plt\n",
    "import seaborn as sns\n",
    "\n",
    "# Suppressing warnings\n",
    "import warnings\n",
    "warnings.filterwarnings('ignore')"
   ]
  },
  {
   "cell_type": "code",
   "execution_count": 2,
   "outputs": [],
   "source": [
    "data = pd.read_csv(\"hot-100-current.csv\")"
   ],
   "metadata": {
    "collapsed": false
   }
  },
  {
   "cell_type": "code",
   "execution_count": 3,
   "outputs": [
    {
     "data": {
      "text/plain": "        chart_week  current_week                              title  \\\n0       2022-01-01             1    All I Want For Christmas Is You   \n1       2022-01-01             2  Rockin' Around The Christmas Tree   \n2       2022-01-01             3                   Jingle Bell Rock   \n3       2022-01-01             4            A Holly Jolly Christmas   \n4       2022-01-01             5                         Easy On Me   \n...            ...           ...                                ...   \n343595  2021-11-13            96                    Lets Go Brandon   \n343596  2021-11-13            97                Just About Over You   \n343597  2021-11-13            98                 To Be Loved By You   \n343598  2021-11-13            99                   Let's Go Brandon   \n343599  2021-11-13           100                         Ghost Town   \n\n                                                performer  last_week  \\\n0                                            Mariah Carey        1.0   \n1                                              Brenda Lee        2.0   \n2                                             Bobby Helms        4.0   \n3                                               Burl Ives        5.0   \n4                                                   Adele        3.0   \n...                                                   ...        ...   \n343595                                     Loza Alexander       38.0   \n343596                                    Priscilla Block       95.0   \n343597                                    Parker McCollum       96.0   \n343598  Bryson Gray Featuring Tyson James & Chandler C...       28.0   \n343599                                       Benson Boone        NaN   \n\n        peak_pos  wks_on_chart  \n0              1            50  \n1              2            44  \n2              3            41  \n3              4            25  \n4              1            11  \n...          ...           ...  \n343595        38             3  \n343596        95             4  \n343597        96             2  \n343598        28             2  \n343599       100             1  \n\n[343600 rows x 7 columns]",
      "text/html": "<div>\n<style scoped>\n    .dataframe tbody tr th:only-of-type {\n        vertical-align: middle;\n    }\n\n    .dataframe tbody tr th {\n        vertical-align: top;\n    }\n\n    .dataframe thead th {\n        text-align: right;\n    }\n</style>\n<table border=\"1\" class=\"dataframe\">\n  <thead>\n    <tr style=\"text-align: right;\">\n      <th></th>\n      <th>chart_week</th>\n      <th>current_week</th>\n      <th>title</th>\n      <th>performer</th>\n      <th>last_week</th>\n      <th>peak_pos</th>\n      <th>wks_on_chart</th>\n    </tr>\n  </thead>\n  <tbody>\n    <tr>\n      <th>0</th>\n      <td>2022-01-01</td>\n      <td>1</td>\n      <td>All I Want For Christmas Is You</td>\n      <td>Mariah Carey</td>\n      <td>1.0</td>\n      <td>1</td>\n      <td>50</td>\n    </tr>\n    <tr>\n      <th>1</th>\n      <td>2022-01-01</td>\n      <td>2</td>\n      <td>Rockin' Around The Christmas Tree</td>\n      <td>Brenda Lee</td>\n      <td>2.0</td>\n      <td>2</td>\n      <td>44</td>\n    </tr>\n    <tr>\n      <th>2</th>\n      <td>2022-01-01</td>\n      <td>3</td>\n      <td>Jingle Bell Rock</td>\n      <td>Bobby Helms</td>\n      <td>4.0</td>\n      <td>3</td>\n      <td>41</td>\n    </tr>\n    <tr>\n      <th>3</th>\n      <td>2022-01-01</td>\n      <td>4</td>\n      <td>A Holly Jolly Christmas</td>\n      <td>Burl Ives</td>\n      <td>5.0</td>\n      <td>4</td>\n      <td>25</td>\n    </tr>\n    <tr>\n      <th>4</th>\n      <td>2022-01-01</td>\n      <td>5</td>\n      <td>Easy On Me</td>\n      <td>Adele</td>\n      <td>3.0</td>\n      <td>1</td>\n      <td>11</td>\n    </tr>\n    <tr>\n      <th>...</th>\n      <td>...</td>\n      <td>...</td>\n      <td>...</td>\n      <td>...</td>\n      <td>...</td>\n      <td>...</td>\n      <td>...</td>\n    </tr>\n    <tr>\n      <th>343595</th>\n      <td>2021-11-13</td>\n      <td>96</td>\n      <td>Lets Go Brandon</td>\n      <td>Loza Alexander</td>\n      <td>38.0</td>\n      <td>38</td>\n      <td>3</td>\n    </tr>\n    <tr>\n      <th>343596</th>\n      <td>2021-11-13</td>\n      <td>97</td>\n      <td>Just About Over You</td>\n      <td>Priscilla Block</td>\n      <td>95.0</td>\n      <td>95</td>\n      <td>4</td>\n    </tr>\n    <tr>\n      <th>343597</th>\n      <td>2021-11-13</td>\n      <td>98</td>\n      <td>To Be Loved By You</td>\n      <td>Parker McCollum</td>\n      <td>96.0</td>\n      <td>96</td>\n      <td>2</td>\n    </tr>\n    <tr>\n      <th>343598</th>\n      <td>2021-11-13</td>\n      <td>99</td>\n      <td>Let's Go Brandon</td>\n      <td>Bryson Gray Featuring Tyson James &amp; Chandler C...</td>\n      <td>28.0</td>\n      <td>28</td>\n      <td>2</td>\n    </tr>\n    <tr>\n      <th>343599</th>\n      <td>2021-11-13</td>\n      <td>100</td>\n      <td>Ghost Town</td>\n      <td>Benson Boone</td>\n      <td>NaN</td>\n      <td>100</td>\n      <td>1</td>\n    </tr>\n  </tbody>\n</table>\n<p>343600 rows × 7 columns</p>\n</div>"
     },
     "execution_count": 3,
     "metadata": {},
     "output_type": "execute_result"
    }
   ],
   "source": [
    "data"
   ],
   "metadata": {
    "collapsed": false
   }
  },
  {
   "cell_type": "code",
   "execution_count": 4,
   "outputs": [
    {
     "data": {
      "text/plain": "chart_week          0\ncurrent_week        0\ntitle               0\nperformer           0\nlast_week       32460\npeak_pos            0\nwks_on_chart        0\ndtype: int64"
     },
     "execution_count": 4,
     "metadata": {},
     "output_type": "execute_result"
    }
   ],
   "source": [
    "data.isnull().sum()"
   ],
   "metadata": {
    "collapsed": false
   }
  },
  {
   "cell_type": "code",
   "execution_count": 5,
   "outputs": [
    {
     "data": {
      "text/plain": "(343600, 7)"
     },
     "execution_count": 5,
     "metadata": {},
     "output_type": "execute_result"
    }
   ],
   "source": [
    "data.shape"
   ],
   "metadata": {
    "collapsed": false
   }
  },
  {
   "cell_type": "code",
   "execution_count": 6,
   "outputs": [
    {
     "name": "stdout",
     "output_type": "stream",
     "text": [
      "performer\n",
      "Taylor Swift     1551\n",
      "Drake             924\n",
      "Elton John        889\n",
      "Madonna           857\n",
      "Kenny Chesney     780\n",
      "Name: count, dtype: int64\n"
     ]
    }
   ],
   "source": [
    "print(data['performer'].value_counts().head())"
   ],
   "metadata": {
    "collapsed": false
   }
  },
  {
   "cell_type": "code",
   "execution_count": 7,
   "outputs": [
    {
     "data": {
      "text/plain": "                                     title  \\\n10077                           Heat Waves   \n3097                       Blinding Lights   \n20844                          Radioactive   \n21901                                 Sail   \n12922                            I'm Yours   \n23309                               Snooze   \n10939                        How Do I Live   \n19964                    Party Rock Anthem   \n4979                        Counting Stars   \n23625              Something In The Orange   \n8018   Foolish Games/You Were Meant For Me   \n21592                  Rolling In The Deep   \n1186       All I Want For Christmas Is You   \n2654                      Before He Cheats   \n24089                                 Stay   \n30868                            You Proof   \n10535                               Ho Hey   \n11717                               I Hope   \n30558                           You And Me   \n1853                             As It Was   \n\n                                       performer  count  \n10077                              Glass Animals     91  \n3097                                  The Weeknd     90  \n20844                            Imagine Dragons     87  \n21901                                 AWOLNATION     79  \n12922                                 Jason Mraz     76  \n23309                                        SZA     70  \n10939                                LeAnn Rimes     69  \n19964  LMFAO Featuring Lauren Bennett & GoonRock     68  \n4979                                 OneRepublic     68  \n23625                                 Zach Bryan     66  \n8018                                       Jewel     65  \n21592                                      Adele     65  \n1186                                Mariah Carey     64  \n2654                            Carrie Underwood     64  \n24089              The Kid LAROI & Justin Bieber     63  \n30868                              Morgan Wallen     62  \n10535                              The Lumineers     62  \n11717       Gabby Barrett Featuring Charlie Puth     62  \n30558                                  Lifehouse     62  \n1853                                Harry Styles     61  ",
      "text/html": "<div>\n<style scoped>\n    .dataframe tbody tr th:only-of-type {\n        vertical-align: middle;\n    }\n\n    .dataframe tbody tr th {\n        vertical-align: top;\n    }\n\n    .dataframe thead th {\n        text-align: right;\n    }\n</style>\n<table border=\"1\" class=\"dataframe\">\n  <thead>\n    <tr style=\"text-align: right;\">\n      <th></th>\n      <th>title</th>\n      <th>performer</th>\n      <th>count</th>\n    </tr>\n  </thead>\n  <tbody>\n    <tr>\n      <th>10077</th>\n      <td>Heat Waves</td>\n      <td>Glass Animals</td>\n      <td>91</td>\n    </tr>\n    <tr>\n      <th>3097</th>\n      <td>Blinding Lights</td>\n      <td>The Weeknd</td>\n      <td>90</td>\n    </tr>\n    <tr>\n      <th>20844</th>\n      <td>Radioactive</td>\n      <td>Imagine Dragons</td>\n      <td>87</td>\n    </tr>\n    <tr>\n      <th>21901</th>\n      <td>Sail</td>\n      <td>AWOLNATION</td>\n      <td>79</td>\n    </tr>\n    <tr>\n      <th>12922</th>\n      <td>I'm Yours</td>\n      <td>Jason Mraz</td>\n      <td>76</td>\n    </tr>\n    <tr>\n      <th>23309</th>\n      <td>Snooze</td>\n      <td>SZA</td>\n      <td>70</td>\n    </tr>\n    <tr>\n      <th>10939</th>\n      <td>How Do I Live</td>\n      <td>LeAnn Rimes</td>\n      <td>69</td>\n    </tr>\n    <tr>\n      <th>19964</th>\n      <td>Party Rock Anthem</td>\n      <td>LMFAO Featuring Lauren Bennett &amp; GoonRock</td>\n      <td>68</td>\n    </tr>\n    <tr>\n      <th>4979</th>\n      <td>Counting Stars</td>\n      <td>OneRepublic</td>\n      <td>68</td>\n    </tr>\n    <tr>\n      <th>23625</th>\n      <td>Something In The Orange</td>\n      <td>Zach Bryan</td>\n      <td>66</td>\n    </tr>\n    <tr>\n      <th>8018</th>\n      <td>Foolish Games/You Were Meant For Me</td>\n      <td>Jewel</td>\n      <td>65</td>\n    </tr>\n    <tr>\n      <th>21592</th>\n      <td>Rolling In The Deep</td>\n      <td>Adele</td>\n      <td>65</td>\n    </tr>\n    <tr>\n      <th>1186</th>\n      <td>All I Want For Christmas Is You</td>\n      <td>Mariah Carey</td>\n      <td>64</td>\n    </tr>\n    <tr>\n      <th>2654</th>\n      <td>Before He Cheats</td>\n      <td>Carrie Underwood</td>\n      <td>64</td>\n    </tr>\n    <tr>\n      <th>24089</th>\n      <td>Stay</td>\n      <td>The Kid LAROI &amp; Justin Bieber</td>\n      <td>63</td>\n    </tr>\n    <tr>\n      <th>30868</th>\n      <td>You Proof</td>\n      <td>Morgan Wallen</td>\n      <td>62</td>\n    </tr>\n    <tr>\n      <th>10535</th>\n      <td>Ho Hey</td>\n      <td>The Lumineers</td>\n      <td>62</td>\n    </tr>\n    <tr>\n      <th>11717</th>\n      <td>I Hope</td>\n      <td>Gabby Barrett Featuring Charlie Puth</td>\n      <td>62</td>\n    </tr>\n    <tr>\n      <th>30558</th>\n      <td>You And Me</td>\n      <td>Lifehouse</td>\n      <td>62</td>\n    </tr>\n    <tr>\n      <th>1853</th>\n      <td>As It Was</td>\n      <td>Harry Styles</td>\n      <td>61</td>\n    </tr>\n  </tbody>\n</table>\n</div>"
     },
     "execution_count": 7,
     "metadata": {},
     "output_type": "execute_result"
    }
   ],
   "source": [
    "data.groupby(['title', 'performer']).size().reset_index(name='count').sort_values(by='count', ascending=False).head(20)"
   ],
   "metadata": {
    "collapsed": false
   }
  },
  {
   "cell_type": "code",
   "execution_count": 8,
   "outputs": [
    {
     "data": {
      "text/plain": "                          performer  weeks_in_chart  years_in_chart\n2846                     Elton John             812       15.615385\n5044                  Kenny Chesney             743       14.288462\n9978                     Tim McGraw             721       13.865385\n5942                        Madonna             682       13.115385\n4995                    Keith Urban             663       12.750000\n...                             ...             ...             ...\n8622  Swae Lee Featuring Slim Jxmmi               1        0.019231\n8621       Swae Lee Featuring Drake               1        0.019231\n2181                    Danny Gokey               1        0.019231\n5206                Koryn Hawthorne               1        0.019231\n5455  Lil Baby, Lil Durk & Rod Wave               1        0.019231\n\n[10849 rows x 3 columns]",
      "text/html": "<div>\n<style scoped>\n    .dataframe tbody tr th:only-of-type {\n        vertical-align: middle;\n    }\n\n    .dataframe tbody tr th {\n        vertical-align: top;\n    }\n\n    .dataframe thead th {\n        text-align: right;\n    }\n</style>\n<table border=\"1\" class=\"dataframe\">\n  <thead>\n    <tr style=\"text-align: right;\">\n      <th></th>\n      <th>performer</th>\n      <th>weeks_in_chart</th>\n      <th>years_in_chart</th>\n    </tr>\n  </thead>\n  <tbody>\n    <tr>\n      <th>2846</th>\n      <td>Elton John</td>\n      <td>812</td>\n      <td>15.615385</td>\n    </tr>\n    <tr>\n      <th>5044</th>\n      <td>Kenny Chesney</td>\n      <td>743</td>\n      <td>14.288462</td>\n    </tr>\n    <tr>\n      <th>9978</th>\n      <td>Tim McGraw</td>\n      <td>721</td>\n      <td>13.865385</td>\n    </tr>\n    <tr>\n      <th>5942</th>\n      <td>Madonna</td>\n      <td>682</td>\n      <td>13.115385</td>\n    </tr>\n    <tr>\n      <th>4995</th>\n      <td>Keith Urban</td>\n      <td>663</td>\n      <td>12.750000</td>\n    </tr>\n    <tr>\n      <th>...</th>\n      <td>...</td>\n      <td>...</td>\n      <td>...</td>\n    </tr>\n    <tr>\n      <th>8622</th>\n      <td>Swae Lee Featuring Slim Jxmmi</td>\n      <td>1</td>\n      <td>0.019231</td>\n    </tr>\n    <tr>\n      <th>8621</th>\n      <td>Swae Lee Featuring Drake</td>\n      <td>1</td>\n      <td>0.019231</td>\n    </tr>\n    <tr>\n      <th>2181</th>\n      <td>Danny Gokey</td>\n      <td>1</td>\n      <td>0.019231</td>\n    </tr>\n    <tr>\n      <th>5206</th>\n      <td>Koryn Hawthorne</td>\n      <td>1</td>\n      <td>0.019231</td>\n    </tr>\n    <tr>\n      <th>5455</th>\n      <td>Lil Baby, Lil Durk &amp; Rod Wave</td>\n      <td>1</td>\n      <td>0.019231</td>\n    </tr>\n  </tbody>\n</table>\n<p>10849 rows × 3 columns</p>\n</div>"
     },
     "execution_count": 8,
     "metadata": {},
     "output_type": "execute_result"
    }
   ],
   "source": [
    "data.groupby(['performer', 'chart_week'])['title'].count().reset_index() \\\n",
    "    .groupby('performer')['chart_week'].count().reset_index(name='weeks_in_chart') \\\n",
    "    .assign(years_in_chart=lambda df: df['weeks_in_chart'] / 52) \\\n",
    "    .sort_values(by='years_in_chart', ascending=False)\n"
   ],
   "metadata": {
    "collapsed": false
   }
  },
  {
   "cell_type": "code",
   "execution_count": 9,
   "outputs": [
    {
     "data": {
      "text/plain": "                                               performer  unique_songs\n8753                                        Taylor Swift           235\n3539                                           Glee Cast           183\n2614                                               Drake           145\n10730                         YoungBoy Never Broke Again            80\n8909                                         The Beatles            66\n...                                                  ...           ...\n5885                                         MC Luscious             1\n5884                                             MC Eiht             1\n5883                                 MAX Featuring gnash             1\n5882                                              MAGIC!             1\n10848  ¥$: Ye & Ty Dolla $ign Featuring Rich The Kid ...             1\n\n[10849 rows x 2 columns]",
      "text/html": "<div>\n<style scoped>\n    .dataframe tbody tr th:only-of-type {\n        vertical-align: middle;\n    }\n\n    .dataframe tbody tr th {\n        vertical-align: top;\n    }\n\n    .dataframe thead th {\n        text-align: right;\n    }\n</style>\n<table border=\"1\" class=\"dataframe\">\n  <thead>\n    <tr style=\"text-align: right;\">\n      <th></th>\n      <th>performer</th>\n      <th>unique_songs</th>\n    </tr>\n  </thead>\n  <tbody>\n    <tr>\n      <th>8753</th>\n      <td>Taylor Swift</td>\n      <td>235</td>\n    </tr>\n    <tr>\n      <th>3539</th>\n      <td>Glee Cast</td>\n      <td>183</td>\n    </tr>\n    <tr>\n      <th>2614</th>\n      <td>Drake</td>\n      <td>145</td>\n    </tr>\n    <tr>\n      <th>10730</th>\n      <td>YoungBoy Never Broke Again</td>\n      <td>80</td>\n    </tr>\n    <tr>\n      <th>8909</th>\n      <td>The Beatles</td>\n      <td>66</td>\n    </tr>\n    <tr>\n      <th>...</th>\n      <td>...</td>\n      <td>...</td>\n    </tr>\n    <tr>\n      <th>5885</th>\n      <td>MC Luscious</td>\n      <td>1</td>\n    </tr>\n    <tr>\n      <th>5884</th>\n      <td>MC Eiht</td>\n      <td>1</td>\n    </tr>\n    <tr>\n      <th>5883</th>\n      <td>MAX Featuring gnash</td>\n      <td>1</td>\n    </tr>\n    <tr>\n      <th>5882</th>\n      <td>MAGIC!</td>\n      <td>1</td>\n    </tr>\n    <tr>\n      <th>10848</th>\n      <td>¥$: Ye &amp; Ty Dolla $ign Featuring Rich The Kid ...</td>\n      <td>1</td>\n    </tr>\n  </tbody>\n</table>\n<p>10849 rows × 2 columns</p>\n</div>"
     },
     "execution_count": 9,
     "metadata": {},
     "output_type": "execute_result"
    }
   ],
   "source": [
    "data.groupby('performer')['title'].nunique().reset_index(name='unique_songs') \\\n",
    "    .sort_values(by='unique_songs', ascending=False)\n"
   ],
   "metadata": {
    "collapsed": false
   }
  },
  {
   "cell_type": "code",
   "execution_count": 10,
   "outputs": [
    {
     "data": {
      "text/plain": "25970"
     },
     "execution_count": 10,
     "metadata": {},
     "output_type": "execute_result"
    }
   ],
   "source": [
    "data['title'].nunique()"
   ],
   "metadata": {
    "collapsed": false
   }
  },
  {
   "cell_type": "code",
   "execution_count": 11,
   "outputs": [
    {
     "data": {
      "text/plain": "343600"
     },
     "execution_count": 11,
     "metadata": {},
     "output_type": "execute_result"
    }
   ],
   "source": [
    "data['title'].count()"
   ],
   "metadata": {
    "collapsed": false
   }
  },
  {
   "cell_type": "code",
   "execution_count": 12,
   "outputs": [
    {
     "data": {
      "text/plain": "31344"
     },
     "execution_count": 12,
     "metadata": {},
     "output_type": "execute_result"
    }
   ],
   "source": [
    "data[['title', 'performer']].drop_duplicates().shape[0]"
   ],
   "metadata": {
    "collapsed": false
   }
  },
  {
   "cell_type": "code",
   "execution_count": 13,
   "outputs": [
    {
     "data": {
      "text/plain": "(343600, 7)"
     },
     "execution_count": 13,
     "metadata": {},
     "output_type": "execute_result"
    }
   ],
   "source": [
    "data.shape"
   ],
   "metadata": {
    "collapsed": false
   }
  },
  {
   "cell_type": "code",
   "execution_count": 14,
   "outputs": [],
   "source": [
    "data['chart_week'] = pd.to_datetime(data['chart_week'])\n",
    "data['year'] = data['chart_week'].dt.year\n",
    "\n",
    "\n",
    "grouped = data.groupby(['year', 'title', 'performer']).size().reset_index(name='weeks_on_chart')\n",
    "\n",
    "top_100_per_year = (\n",
    "    grouped.groupby('year', group_keys=False)\n",
    "    .apply(lambda x: x.nlargest(100, 'weeks_on_chart'))\n",
    "    .reset_index(drop=True)\n",
    ")\n"
   ],
   "metadata": {
    "collapsed": false
   }
  },
  {
   "cell_type": "code",
   "execution_count": 15,
   "outputs": [],
   "source": [
    "top_100_per_year.sort_values(['year', 'weeks_on_chart'], ascending=[True, False], inplace=True)"
   ],
   "metadata": {
    "collapsed": false
   }
  },
  {
   "cell_type": "code",
   "execution_count": 16,
   "outputs": [
    {
     "data": {
      "text/plain": "      year                 title                         performer  \\\n0     1958        Chantilly Lace                        Big Bopper   \n1     1958         Rock-in Robin                         Bobby Day   \n2     1958  It's All In The Game                     Tommy Edwards   \n3     1958    Tears On My Pillow  Little Anthony And The Imperials   \n4     1958              Topsy II                         Cozy Cole   \n...    ...                   ...                               ...   \n6695  2024      Act II: Date @ 8                             4Batz   \n6696  2024       Dance The Night                          Dua Lipa   \n6697  2024  First Person Shooter           Drake Featuring J. Cole   \n6698  2024             Good Good  Usher, Summer Walker & 21 Savage   \n6699  2024                 IDGAF              Drake Featuring Yeat   \n\n      weeks_on_chart  \n0                 22  \n1                 21  \n2                 20  \n3                 19  \n4                 19  \n...              ...  \n6695               9  \n6696               9  \n6697               9  \n6698               9  \n6699               9  \n\n[6700 rows x 4 columns]",
      "text/html": "<div>\n<style scoped>\n    .dataframe tbody tr th:only-of-type {\n        vertical-align: middle;\n    }\n\n    .dataframe tbody tr th {\n        vertical-align: top;\n    }\n\n    .dataframe thead th {\n        text-align: right;\n    }\n</style>\n<table border=\"1\" class=\"dataframe\">\n  <thead>\n    <tr style=\"text-align: right;\">\n      <th></th>\n      <th>year</th>\n      <th>title</th>\n      <th>performer</th>\n      <th>weeks_on_chart</th>\n    </tr>\n  </thead>\n  <tbody>\n    <tr>\n      <th>0</th>\n      <td>1958</td>\n      <td>Chantilly Lace</td>\n      <td>Big Bopper</td>\n      <td>22</td>\n    </tr>\n    <tr>\n      <th>1</th>\n      <td>1958</td>\n      <td>Rock-in Robin</td>\n      <td>Bobby Day</td>\n      <td>21</td>\n    </tr>\n    <tr>\n      <th>2</th>\n      <td>1958</td>\n      <td>It's All In The Game</td>\n      <td>Tommy Edwards</td>\n      <td>20</td>\n    </tr>\n    <tr>\n      <th>3</th>\n      <td>1958</td>\n      <td>Tears On My Pillow</td>\n      <td>Little Anthony And The Imperials</td>\n      <td>19</td>\n    </tr>\n    <tr>\n      <th>4</th>\n      <td>1958</td>\n      <td>Topsy II</td>\n      <td>Cozy Cole</td>\n      <td>19</td>\n    </tr>\n    <tr>\n      <th>...</th>\n      <td>...</td>\n      <td>...</td>\n      <td>...</td>\n      <td>...</td>\n    </tr>\n    <tr>\n      <th>6695</th>\n      <td>2024</td>\n      <td>Act II: Date @ 8</td>\n      <td>4Batz</td>\n      <td>9</td>\n    </tr>\n    <tr>\n      <th>6696</th>\n      <td>2024</td>\n      <td>Dance The Night</td>\n      <td>Dua Lipa</td>\n      <td>9</td>\n    </tr>\n    <tr>\n      <th>6697</th>\n      <td>2024</td>\n      <td>First Person Shooter</td>\n      <td>Drake Featuring J. Cole</td>\n      <td>9</td>\n    </tr>\n    <tr>\n      <th>6698</th>\n      <td>2024</td>\n      <td>Good Good</td>\n      <td>Usher, Summer Walker &amp; 21 Savage</td>\n      <td>9</td>\n    </tr>\n    <tr>\n      <th>6699</th>\n      <td>2024</td>\n      <td>IDGAF</td>\n      <td>Drake Featuring Yeat</td>\n      <td>9</td>\n    </tr>\n  </tbody>\n</table>\n<p>6700 rows × 4 columns</p>\n</div>"
     },
     "execution_count": 16,
     "metadata": {},
     "output_type": "execute_result"
    }
   ],
   "source": [
    "top_100_per_year"
   ],
   "metadata": {
    "collapsed": false
   }
  },
  {
   "cell_type": "code",
   "execution_count": 17,
   "outputs": [],
   "source": [
    "top_100_per_year.to_csv('top_100_songs_by_year.csv', index=False)"
   ],
   "metadata": {
    "collapsed": false
   }
  },
  {
   "cell_type": "code",
   "execution_count": 19,
   "outputs": [
    {
     "data": {
      "text/plain": "(6700, 4)"
     },
     "execution_count": 19,
     "metadata": {},
     "output_type": "execute_result"
    }
   ],
   "source": [
    "top_100_per_year.shape"
   ],
   "metadata": {
    "collapsed": false
   }
  },
  {
   "cell_type": "code",
   "execution_count": 21,
   "outputs": [
    {
     "data": {
      "text/plain": "year              0\ntitle             0\nperformer         0\nweeks_on_chart    0\ndtype: int64"
     },
     "execution_count": 21,
     "metadata": {},
     "output_type": "execute_result"
    }
   ],
   "source": [
    "top_100_per_year.isnull().sum()"
   ],
   "metadata": {
    "collapsed": false
   }
  },
  {
   "cell_type": "code",
   "execution_count": null,
   "outputs": [],
   "source": [],
   "metadata": {
    "collapsed": false
   }
  }
 ],
 "metadata": {
  "kernelspec": {
   "display_name": "Python 3",
   "language": "python",
   "name": "python3"
  },
  "language_info": {
   "codemirror_mode": {
    "name": "ipython",
    "version": 2
   },
   "file_extension": ".py",
   "mimetype": "text/x-python",
   "name": "python",
   "nbconvert_exporter": "python",
   "pygments_lexer": "ipython2",
   "version": "2.7.6"
  }
 },
 "nbformat": 4,
 "nbformat_minor": 0
}
